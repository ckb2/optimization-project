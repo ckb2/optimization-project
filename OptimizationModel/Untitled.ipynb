{
 "cells": [
  {
   "cell_type": "code",
   "execution_count": 180,
   "id": "1b4f2049",
   "metadata": {},
   "outputs": [
    {
     "data": {
      "text/html": [
       "<div class=\"data-frame\"><p>4 rows × 2 columns</p><table class=\"data-frame\"><thead><tr><th></th><th>ingredient</th><th>price</th></tr><tr><th></th><th title=\"String15\">String15</th><th title=\"Int64\">Int64</th></tr></thead><tbody><tr><th>1</th><td>chicken</td><td>4</td></tr><tr><th>2</th><td>potatoes</td><td>3</td></tr><tr><th>3</th><td>beef</td><td>4</td></tr><tr><th>4</th><td>rice</td><td>2</td></tr></tbody></table></div>"
      ],
      "text/latex": [
       "\\begin{tabular}{r|cc}\n",
       "\t& ingredient & price\\\\\n",
       "\t\\hline\n",
       "\t& String15 & Int64\\\\\n",
       "\t\\hline\n",
       "\t1 & chicken & 4 \\\\\n",
       "\t2 & potatoes & 3 \\\\\n",
       "\t3 & beef & 4 \\\\\n",
       "\t4 & rice & 2 \\\\\n",
       "\\end{tabular}\n"
      ],
      "text/plain": [
       "\u001b[1m4×2 DataFrame\u001b[0m\n",
       "\u001b[1m Row \u001b[0m│\u001b[1m ingredient \u001b[0m\u001b[1m price \u001b[0m\n",
       "\u001b[1m     \u001b[0m│\u001b[90m String15   \u001b[0m\u001b[90m Int64 \u001b[0m\n",
       "─────┼───────────────────\n",
       "   1 │ chicken         4\n",
       "   2 │ potatoes        3\n",
       "   3 │ beef            4\n",
       "   4 │ rice            2"
      ]
     },
     "execution_count": 180,
     "metadata": {},
     "output_type": "execute_result"
    }
   ],
   "source": [
    "#READ DATA\n",
    "using CSV, DataFrames, JuMP, Gurobi\n",
    "\n",
    "df_nut = CSV.read(\"data_nutrients.csv\", DataFrame, delim = \";\")\n",
    "df_rec = CSV.read(\"data_recipes.csv\", DataFrame, delim = \";\")\n",
    "df_recConst = CSV.read(\"recipes_const.csv\", DataFrame, delim = \";\")\n",
    "df_price = CSV.read(\"price_ing.csv\", DataFrame, delim = \";\")"
   ]
  },
  {
   "cell_type": "code",
   "execution_count": 181,
   "id": "e27c2f02",
   "metadata": {},
   "outputs": [
    {
     "data": {
      "text/plain": [
       "4-element Vector{Tuple{String15, String31}}:\n",
       " (\"chicken\", \"chicken_with_potatoes\")\n",
       " (\"potatoes\", \"chicken_with_potatoes\")\n",
       " (\"beef\", \"beef_with_rice\")\n",
       " (\"rice\", \"beef_with_rice\")"
      ]
     },
     "execution_count": 181,
     "metadata": {},
     "output_type": "execute_result"
    }
   ],
   "source": [
    "#DEFINE SETS AND INDICES\n",
    "\n",
    "#----------------------------------------------------------------------\n",
    "#set of days (d)\n",
    "d = 30\n",
    "D = [j for j in range(1,d)]\n",
    "\n",
    "#set of meals (m)\n",
    "m = 3\n",
    "M = [j for j in range(1,m)]\n",
    "\n",
    "#set of nutrients (n)\n",
    "N = unique(df_nut, \"nutrients\").nutrients\n",
    "\n",
    "#set of recipes (r)\n",
    "R = df_rec[:,1]\n",
    "\n",
    "#set of people (p)\n",
    "p = 2\n",
    "P = [j for j in range(1,p)]\n",
    "\n",
    "#set of ingredients (i)\n",
    "I = unique(df_recConst, \"need\").need\n",
    "\n",
    "#----------------------------------------------------------------------\n",
    "#indice rmd\n",
    "rmd = [(l,j,k) for l in R for j in M for k in D]\n",
    "\n",
    "#indice rmdp\n",
    "rmdp = [(l,j,k,f) for l in R for j in M for k in D for f in P]\n",
    "\n",
    "#indice np\n",
    "np = [(u,f) for u in N for f in P]\n",
    "\n",
    "#indice nr\n",
    "nr =[(u,l) for u in N for l in R]\n",
    "\n",
    "#indice ir\n",
    "ir = [(row.need,row.recipe) for row in eachrow(df_recConst)]"
   ]
  },
  {
   "cell_type": "code",
   "execution_count": 182,
   "id": "d044ae6e",
   "metadata": {},
   "outputs": [
    {
     "data": {
      "text/plain": [
       "Dict{Tuple{String15, String31}, Int64} with 4 entries:\n",
       "  (\"beef\", \"beef_with_rice\")            => 8\n",
       "  (\"chicken\", \"chicken_with_potatoes\")  => 3\n",
       "  (\"potatoes\", \"chicken_with_potatoes\") => 6\n",
       "  (\"rice\", \"beef_with_rice\")            => 12"
      ]
     },
     "execution_count": 182,
     "metadata": {},
     "output_type": "execute_result"
    }
   ],
   "source": [
    "#DEFINE DATA\n",
    "\n",
    "#daily needs of nutrient n by person p\n",
    "need = Dict((j,k) => df_nut[(df_nut.nutrients .== j) .& (df_nut.person .== k), :lowerbound][1] for (j,k) in np)\n",
    "\n",
    "#daily max of nutrient n by person p\n",
    "max = Dict((j,k) => df_nut[(df_nut.nutrients .== j) .& (df_nut.person .== k), :upperbound][1] for (j,k) in np)\n",
    "\n",
    "#price of ingredient i per unit of measurement of the ingredient\n",
    "price = Dict(j => df_price[(df_price.ingredient .== j), :price][1] for j in I)\n",
    "\n",
    "#quantity of nutrient n granted by one portion of recipe r\n",
    "nutrec = Dict((j,k) => df_rec[(df_rec.recipe .== k), j][1] for (j,k) in nr)\n",
    "\n",
    "#quantity of ingredient i needed by one portion of recipe r\n",
    "recing = Dict((j,k) => df_recConst[(df_recConst.recipe .== k) .& (df_recConst.need .== j), :quantity][1] for (j,k) in ir)"
   ]
  },
  {
   "cell_type": "code",
   "execution_count": 183,
   "id": "ea9ca22c",
   "metadata": {},
   "outputs": [
    {
     "name": "stdout",
     "output_type": "stream",
     "text": [
      "Set parameter Username\n",
      "Academic license - for non-commercial use only - expires 2023-03-27\n"
     ]
    },
    {
     "data": {
      "text/latex": [
       "$$ 4 Y_{chicken} + 3 Y_{potatoes} + 4 Y_{beef} + 2 Y_{rice} $$"
      ],
      "text/plain": [
       "4 Y[chicken] + 3 Y[potatoes] + 4 Y[beef] + 2 Y[rice]"
      ]
     },
     "execution_count": 183,
     "metadata": {},
     "output_type": "execute_result"
    }
   ],
   "source": [
    "#DEFINE AND SHOW MODEL\n",
    "\n",
    "#model\n",
    "mdl = Model(with_optimizer(Gurobi.Optimizer))\n",
    "\n",
    "#decision variables\n",
    "@variables mdl begin\n",
    "    X[rmd], Bin\n",
    "    Q[rmdp]>=0\n",
    "    Y[I]>=0 #need to understand if it is possible to define some of these as integer and others as float\n",
    "end\n",
    "\n",
    "#objective function\n",
    "@objective(mdl, Min, sum(Y[j]*price[j] for j in I))\n",
    "\n",
    "#constraints"
   ]
  },
  {
   "cell_type": "code",
   "execution_count": null,
   "id": "cfb276b8",
   "metadata": {},
   "outputs": [],
   "source": []
  }
 ],
 "metadata": {
  "kernelspec": {
   "display_name": "Julia 1.7.2",
   "language": "julia",
   "name": "julia-1.7"
  },
  "language_info": {
   "file_extension": ".jl",
   "mimetype": "application/julia",
   "name": "julia",
   "version": "1.7.2"
  }
 },
 "nbformat": 4,
 "nbformat_minor": 5
}
