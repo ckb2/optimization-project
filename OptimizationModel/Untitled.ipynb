{
 "cells": [
  {
   "cell_type": "code",
   "execution_count": 81,
   "id": "1b4f2049",
   "metadata": {},
   "outputs": [
    {
     "data": {
      "text/html": [
       "<div class=\"data-frame\"><p>4 rows × 3 columns</p><table class=\"data-frame\"><thead><tr><th></th><th>recipe</th><th>need</th><th>quantity</th></tr><tr><th></th><th title=\"String31\">String31</th><th title=\"String15\">String15</th><th title=\"Int64\">Int64</th></tr></thead><tbody><tr><th>1</th><td>chicken with potatoes</td><td>chicken</td><td>3</td></tr><tr><th>2</th><td>chicken with potatoes</td><td>potatoes</td><td>6</td></tr><tr><th>3</th><td>beef with rice</td><td>beef</td><td>8</td></tr><tr><th>4</th><td>beef with rice</td><td>rice</td><td>12</td></tr></tbody></table></div>"
      ],
      "text/latex": [
       "\\begin{tabular}{r|ccc}\n",
       "\t& recipe & need & quantity\\\\\n",
       "\t\\hline\n",
       "\t& String31 & String15 & Int64\\\\\n",
       "\t\\hline\n",
       "\t1 & chicken with potatoes & chicken & 3 \\\\\n",
       "\t2 & chicken with potatoes & potatoes & 6 \\\\\n",
       "\t3 & beef with rice & beef & 8 \\\\\n",
       "\t4 & beef with rice & rice & 12 \\\\\n",
       "\\end{tabular}\n"
      ],
      "text/plain": [
       "\u001b[1m4×3 DataFrame\u001b[0m\n",
       "\u001b[1m Row \u001b[0m│\u001b[1m recipe                \u001b[0m\u001b[1m need     \u001b[0m\u001b[1m quantity \u001b[0m\n",
       "\u001b[1m     \u001b[0m│\u001b[90m String31              \u001b[0m\u001b[90m String15 \u001b[0m\u001b[90m Int64    \u001b[0m\n",
       "─────┼───────────────────────────────────────────\n",
       "   1 │ chicken with potatoes  chicken          3\n",
       "   2 │ chicken with potatoes  potatoes         6\n",
       "   3 │ beef with rice         beef             8\n",
       "   4 │ beef with rice         rice            12"
      ]
     },
     "execution_count": 81,
     "metadata": {},
     "output_type": "execute_result"
    }
   ],
   "source": [
    "#READ DATA\n",
    "using CSV, DataFrames\n",
    "\n",
    "df_nut = CSV.read(\"data_nutrients.csv\", DataFrame, delim = \";\")\n",
    "df_rec = CSV.read(\"data_recipes.csv\", DataFrame, delim = \";\")\n",
    "df_recConst = CSV.read(\"recipes_const.csv\", DataFrame, delim = \";\")\n",
    "#agg_df_recConst = combine(groupby(df_recConst,[\"recipe\"]))\n"
   ]
  },
  {
   "cell_type": "code",
   "execution_count": 89,
   "id": "e27c2f02",
   "metadata": {},
   "outputs": [
    {
     "data": {
      "text/plain": [
       "4-element Vector{Tuple{String31, String15}}:\n",
       " (\"chicken with potatoes\", \"chicken\")\n",
       " (\"chicken with potatoes\", \"potatoes\")\n",
       " (\"beef with rice\", \"beef\")\n",
       " (\"beef with rice\", \"rice\")"
      ]
     },
     "execution_count": 89,
     "metadata": {},
     "output_type": "execute_result"
    }
   ],
   "source": [
    "#DEFINE SETS AND INDICES\n",
    "\n",
    "#----------------------------------------------------------------------\n",
    "#set of days (d)\n",
    "d = 30\n",
    "D = [j for j in range(1,d)]\n",
    "\n",
    "#set of meals (m)\n",
    "m = 3\n",
    "M = [j for j in range(1,m)]\n",
    "\n",
    "#set of nutrients (n)\n",
    "N = df_nut[:,1]\n",
    "\n",
    "#set of recipes (r)\n",
    "R = df_rec[:,1]\n",
    "\n",
    "#set of people (p)\n",
    "p = 3\n",
    "P = [j for j in range(1,p)]\n",
    "\n",
    "#set of ingredients (i)\n",
    "#....\n",
    "\n",
    "#----------------------------------------------------------------------\n",
    "#indice rmd\n",
    "rmd = [(l,j,k) for l in R for j in M for k in D]\n",
    "\n",
    "#indice rmdp\n",
    "rmdp = [(l,j,k,f) for l in R for j in M for k in D for f in P]\n",
    "\n",
    "#indice np\n",
    "np = [(u,f) for u in N for f in P]\n",
    "\n",
    "#indice nr\n",
    "nr =[(u,l) for u in N for l in R]\n",
    "\n",
    "#indice ir\n",
    "ir = [(row.recipe,row.need) for row in eachrow(df_recConst)]"
   ]
  }
 ],
 "metadata": {
  "kernelspec": {
   "display_name": "Julia 1.7.2",
   "language": "julia",
   "name": "julia-1.7"
  },
  "language_info": {
   "file_extension": ".jl",
   "mimetype": "application/julia",
   "name": "julia",
   "version": "1.7.2"
  }
 },
 "nbformat": 4,
 "nbformat_minor": 5
}
